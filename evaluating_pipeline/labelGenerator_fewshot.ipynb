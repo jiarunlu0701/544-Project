{
 "cells": [
  {
   "cell_type": "code",
   "execution_count": 7,
   "metadata": {
    "jupyter": {
     "is_executing": true
    }
   },
   "outputs": [],
   "source": [
    "import pandas as pd\n",
    "ground_truth = pd.read_json('groud_truth_embedding.json')\n",
    "targetStr = 'output/few_shot_model_responses_qwen.csv'\n",
    "targetDf = pd.read_csv(targetStr)"
   ]
  },
  {
   "cell_type": "code",
   "execution_count": 8,
   "metadata": {},
   "outputs": [
    {
     "name": "stderr",
     "output_type": "stream",
     "text": [
      "Generating embeddings: 100%|██████████| 437/437 [00:40<00:00, 10.86it/s]\n"
     ]
    }
   ],
   "source": [
    "import torch\n",
    "from transformers import DistilBertTokenizer, DistilBertModel\n",
    "import numpy as np\n",
    "from tqdm import tqdm  # For progress bar\n",
    "tokenizer = DistilBertTokenizer.from_pretrained('distilbert-base-uncased')\n",
    "model = DistilBertModel.from_pretrained('distilbert-base-uncased')\n",
    "model.eval()  # Set to evaluation mode\n",
    "def get_embedding(text):\n",
    "    # Tokenize and process the input text\n",
    "    inputs = tokenizer(text, return_tensors=\"pt\", truncation=True, padding=\"max_length\", max_length=512)\n",
    "    \n",
    "    with torch.no_grad():  # Disable gradient computation for efficiency\n",
    "        outputs = model(**inputs)\n",
    "        \n",
    "    # Take the mean of the last hidden state to create a single embedding vector\n",
    "    embeddings = outputs.last_hidden_state.mean(dim=1).squeeze().numpy()\n",
    "    return embeddings\n",
    "embeddings = []\n",
    "for text in tqdm(targetDf['Generated Response'], desc=\"Generating embeddings\"):\n",
    "    embeddings.append(get_embedding(text))\n",
    "targetDf['Embeddings_Generated'] = embeddings"
   ]
  },
  {
   "cell_type": "code",
   "execution_count": 9,
   "metadata": {},
   "outputs": [],
   "source": [
    "misconception_df = pd.read_csv('../embedding_generator/misconception_mapping.csv')\n",
    "from sklearn.metrics.pairwise import cosine_similarity\n",
    "def find_most_similar_id(target_embedding, ground_truth_df):\n",
    "    # Calculate cosine similarity between the target embedding and each embedding in ground_truth\n",
    "    similarities = cosine_similarity([target_embedding], list(ground_truth_df['Embedding']))\n",
    "    \n",
    "    # Find the index of the highest similarity score\n",
    "    most_similar_index = np.argmax(similarities)\n",
    "    \n",
    "    # Retrieve the misconception_id with the highest similarity\n",
    "    most_similar_id = ground_truth_df.iloc[most_similar_index]['MisconceptionId']\n",
    "    return most_similar_id\n",
    "\n",
    "# Apply the function to each row in targetDf\n",
    "targetDf['prediction_result'] = targetDf['Embeddings_Generated'].apply(\n",
    "    lambda emb: find_most_similar_id(emb, ground_truth)\n",
    ")"
   ]
  },
  {
   "cell_type": "code",
   "execution_count": 10,
   "metadata": {},
   "outputs": [],
   "source": [
    "targetDf.rename(columns={'prediction_result': 'MisconceptionId'}, inplace=True)\n",
    "\n",
    "targetDf = targetDf.merge(misconception_df, on='MisconceptionId', how='left')"
   ]
  },
  {
   "cell_type": "code",
   "execution_count": 11,
   "metadata": {},
   "outputs": [
    {
     "name": "stdout",
     "output_type": "stream",
     "text": [
      "0.006864988558352402\n"
     ]
    }
   ],
   "source": [
    "print(sum(targetDf['Expected Misconception'] == targetDf['MisconceptionName']) / len(targetDf))"
   ]
  },
  {
   "cell_type": "code",
   "execution_count": 12,
   "metadata": {},
   "outputs": [
    {
     "name": "stdout",
     "output_type": "stream",
     "text": [
      "Both Tom and Katie\n"
     ]
    }
   ],
   "source": [
    "print(targetDf['Generated Response'][100])"
   ]
  },
  {
   "cell_type": "code",
   "execution_count": 13,
   "metadata": {},
   "outputs": [
    {
     "name": "stdout",
     "output_type": "stream",
     "text": [
      "Instruction: Why is the given answer wrong under such circumstances? Some of the examples are given below\n",
      "Example from before: \n",
      "Example4204, Question :Calculate\n",
      "\\(\n",
      "2 \\div \\frac{1}{5}\n",
      "\\)\n",
      "Answer: \\( \\frac{5}{2} \\)\n",
      "Example1514, Question :When factorised, \\( 9 x^{2}-16 \\) will become...\n",
      "Answer: \\( 9 x(x-16) \\)\n",
      "Example1968, Question :The median of these four numbers is \\( 5 \\).\n",
      "\\(\n",
      "\\begin{array}{cccc}\n",
      "3&12&1&?\n",
      "\\end{array}\n",
      "\\)\n",
      "Find the value of the missing number.\n",
      "Answer: \\( 4 \\)\n",
      "Example3686, Question :Jo and Paul are arguing about powers.\n",
      "\n",
      "Jo says there is no value of \\( m \\) that means \\( 3^{m} \\) is even.\n",
      "\n",
      "Paul says there is no value of \\( n \\) that means \\( 4^{n} \\) ends in \\( 0 \\).\n",
      "Who is correct?\n",
      "Answer: Neither is correct\n",
      "Example2714, Question :If you know the first term of a linear sequence and you multiply it by \\( 10 \\), you get the \\( 10^{\\text {th }} \\) term of that sequence.\n",
      "Is this statement...\n",
      "Answer: never true\n",
      "\n",
      "ConstructName: Factorise a quadratic expression in the form x² - bx - c\n",
      "QuestionText: Tom and Katie are arguing about factorising. Tom says \\( x^{2}+5 x+6 \\equiv(x+3)(x+2) \\) \n",
      "Katie says \\( x^{2}-5 x-6 \\equiv(x-3)(x-2) \\) \n",
      "Who is correct?\n",
      "answer: Both Tom and Katie\n"
     ]
    }
   ],
   "source": [
    "print(targetDf['Prompt'][100])"
   ]
  },
  {
   "cell_type": "code",
   "execution_count": 14,
   "metadata": {},
   "outputs": [
    {
     "data": {
      "text/plain": [
       "'The given answer is incorrect because the function machine does not accurately represent the equation \\\\( y = x^2 + 4 \\\\). The correct function machine should have an input \"x\" that goes into the \"square\" box, then add 4 to the result, producing the output \"y\". Instead, the function machine depicted adds 4 after squaring \"x\", which changes the equation to \\\\( y = (x+4)^2 \\\\).'"
      ]
     },
     "execution_count": 14,
     "metadata": {},
     "output_type": "execute_result"
    }
   ],
   "source": [
    "targetDf['Generated Response'][0]"
   ]
  },
  {
   "cell_type": "code",
   "execution_count": 15,
   "metadata": {},
   "outputs": [
    {
     "data": {
      "text/plain": [
       "'Instruction: Why is the given answer wrong under such circumstances? Some of the examples are given below\\nExample from before: \\nExample2137, Question :This five-sided spinner is fair.\\r\\nWhat is the probability of spinning a \\\\( \\\\mathbf{3} \\\\) ?\\r\\nGive your answer as a percentage ![A five sided spinner labelled with 1, 1, 2, 3 and 4]()\\nAnswer: \\\\( 25 \\\\% \\\\)\\nExample2513, Question :When \\\\( h=5 \\\\)\\r\\nWhich of the following pairs of statements is true?\\nAnswer: \\\\( \\\\begin{array}{l}3 h^{2}=225 \\\\\\\\ (3 h)^{2}=225\\\\end{array} \\\\)\\nExample346, Question :Tom and Katie are discussing the order of operations\\r\\nTom says: \\\\( 3+2-1 \\\\equiv 3-1+2 \\\\)\\r\\nKatie says: \\\\( 3+2 \\\\times 1 \\\\equiv 2 \\\\times 1+3 \\\\)\\nAnswer: Only\\r\\nTom\\nExample3206, Question :When Sarah completes the square, what should replace the triangle?\\r\\n\\\\[\\r\\np^{2}-10 p-1 \\\\equiv(p-5)^{2}  \\\\Delta\\r\\n\\\\]\\nAnswer: \\\\( \\\\Delta =-11 \\\\)\\nExample1342, Question :Calculate the displacement \\\\( (s) \\\\), of a particle when initial velocity \\\\( (u)=2.9 \\\\mathrm{~ms}^{-1} \\\\), final velocity \\\\( (v)=3.5 \\\\mathrm{~ms}^{-1} \\\\), and the time \\\\( (t) \\\\) taken is \\\\( 5.2 \\\\) seconds. \\\\( s=\\\\frac{1}{2}(u+v) t \\\\)\\nAnswer: \\\\( \\\\begin{array}{c}s=\\\\frac{1}{2}(2.9+3.5+5.2) \\\\\\\\ s=5.8\\\\end{array} \\\\)\\n\\nConstructName: Express a non-linear equation as a function machine\\nQuestionText: Which function machine matches the equation \\\\( y=x^{2}+4 ? \\\\)\\nanswer: ![A function machine which has 4 parts joined by arrows pointing from left to right. \"y\" is the first part, written on the left, followed by a horizontal arrow pointing to a rectangle that has \"+ 4\" written inside it, followed by a horizontal arrow pointing to a rectangle that has \"square\" written inside it, followed by a horizontal arrow pointing to \"𝑥\"]()'"
      ]
     },
     "execution_count": 15,
     "metadata": {},
     "output_type": "execute_result"
    }
   ],
   "source": [
    "targetDf['Prompt'][0]"
   ]
  }
 ],
 "metadata": {
  "kernelspec": {
   "display_name": "Python 3",
   "language": "python",
   "name": "python3"
  },
  "language_info": {
   "codemirror_mode": {
    "name": "ipython",
    "version": 3
   },
   "file_extension": ".py",
   "mimetype": "text/x-python",
   "name": "python",
   "nbconvert_exporter": "python",
   "pygments_lexer": "ipython3",
   "version": "3.12.6"
  }
 },
 "nbformat": 4,
 "nbformat_minor": 2
}
