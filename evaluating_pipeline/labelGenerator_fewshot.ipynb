{
 "cells": [
  {
   "cell_type": "code",
   "execution_count": 22,
   "metadata": {
    "jupyter": {
     "is_executing": true
    }
   },
   "outputs": [],
   "source": [
    "import pandas as pd\n",
    "ground_truth = pd.read_json('groud_truth_embedding.json')\n",
    "targetStr = 'output/few_shot_model_responses_qwen.csv'\n",
    "targetDf = pd.read_csv(targetStr)"
   ]
  },
  {
   "cell_type": "code",
   "execution_count": 24,
   "metadata": {},
   "outputs": [
    {
     "name": "stderr",
     "output_type": "stream",
     "text": [
      "Generating embeddings: 100%|██████████| 437/437 [00:42<00:00, 10.33it/s]\n"
     ]
    }
   ],
   "source": [
    "import torch\n",
    "from transformers import DistilBertTokenizer, DistilBertModel\n",
    "import numpy as np\n",
    "from tqdm import tqdm  # For progress bar\n",
    "tokenizer = DistilBertTokenizer.from_pretrained('distilbert-base-uncased')\n",
    "model = DistilBertModel.from_pretrained('distilbert-base-uncased')\n",
    "model.eval()  # Set to evaluation mode\n",
    "def get_embedding(text):\n",
    "    # Tokenize and process the input text\n",
    "    inputs = tokenizer(text, return_tensors=\"pt\", truncation=True, padding=\"max_length\", max_length=512)\n",
    "    \n",
    "    with torch.no_grad():  # Disable gradient computation for efficiency\n",
    "        outputs = model(**inputs)\n",
    "        \n",
    "    # Take the mean of the last hidden state to create a single embedding vector\n",
    "    embeddings = outputs.last_hidden_state.mean(dim=1).squeeze().numpy()\n",
    "    return embeddings\n",
    "embeddings = []\n",
    "for text in tqdm(targetDf['Generated Response'], desc=\"Generating embeddings\"):\n",
    "    embeddings.append(get_embedding(text))\n",
    "targetDf['Embeddings_Generated'] = embeddings"
   ]
  },
  {
   "cell_type": "code",
   "execution_count": 25,
   "metadata": {},
   "outputs": [],
   "source": [
    "misconception_df = pd.read_csv('../embedding_generator/misconception_mapping.csv')\n",
    "from sklearn.metrics.pairwise import cosine_similarity\n",
    "def find_most_similar_id(target_embedding, ground_truth_df):\n",
    "    # Calculate cosine similarity between the target embedding and each embedding in ground_truth\n",
    "    similarities = cosine_similarity([target_embedding], list(ground_truth_df['Embedding']))\n",
    "    \n",
    "    # Find the index of the highest similarity score\n",
    "    most_similar_index = np.argmax(similarities)\n",
    "    \n",
    "    # Retrieve the misconception_id with the highest similarity\n",
    "    most_similar_id = ground_truth_df.iloc[most_similar_index]['MisconceptionId']\n",
    "    return most_similar_id\n",
    "\n",
    "# Apply the function to each row in targetDf\n",
    "targetDf['prediction_result'] = targetDf['Embeddings_Generated'].apply(\n",
    "    lambda emb: find_most_similar_id(emb, ground_truth)\n",
    ")"
   ]
  },
  {
   "cell_type": "code",
   "execution_count": 26,
   "metadata": {},
   "outputs": [],
   "source": [
    "targetDf.rename(columns={'prediction_result': 'MisconceptionId'}, inplace=True)\n",
    "\n",
    "targetDf = targetDf.merge(misconception_df, on='MisconceptionId', how='left')"
   ]
  },
  {
   "cell_type": "code",
   "execution_count": 27,
   "metadata": {},
   "outputs": [
    {
     "name": "stdout",
     "output_type": "stream",
     "text": [
      "0.004576659038901602\n"
     ]
    }
   ],
   "source": [
    "print(sum(targetDf['Expected Misconception'] == targetDf['MisconceptionName']) / len(targetDf))"
   ]
  },
  {
   "cell_type": "code",
   "execution_count": 28,
   "metadata": {},
   "outputs": [
    {
     "name": "stdout",
     "output_type": "stream",
     "text": [
      "Both Tom and Katie are incorrect. The correct factorizations are:\n",
      "- For \\( x^2 + 5x + 6 \\), the correct factorization is \\( (x+2)(x+3) \\).\n",
      "- For \\( x^2 - 5x - 6 \\), the correct factorization is \\( (x-6)(x+1) \\).\n"
     ]
    }
   ],
   "source": [
    "print(targetDf['Generated Response'][100])"
   ]
  },
  {
   "cell_type": "code",
   "execution_count": 29,
   "metadata": {},
   "outputs": [
    {
     "name": "stdout",
     "output_type": "stream",
     "text": [
      "Instruction: Why is the given answer wrong under such circumstances? Some of the examples are given below\n",
      "Example from before: \n",
      "Example2731, Question :\\( 24 \\) people went to an local ice hockey match.\n",
      "The pie chart shows the colours of their shirts.\n",
      "How many people wore red? ![Pie chart divided into 8 equal sections. 4 sections are yellow, 2 sections are red, 1 section is black and 1 section is white.]()\n",
      "Answer: \\( 3 \\)\n",
      "Example567, Question :This is a part of the table of values for the equation\n",
      "\\[y=3 x^{2}\\] \\begin{tabular}{|l|l|}\n",
      "\\hline\\( x \\) & \\( 0.3 \\) \\\\\n",
      "\\hline\\( y \\) & \\( \\bigstar \\) \\\\\n",
      "\\hline\n",
      "\\end{tabular} What should replace the star?\n",
      "Answer: \\( 0.81 \\)\n",
      "Example3546, Question :Tom and Katie are discussing regular polygons. Tom says this is a regular polygon ![A triangle with 3 equal sides and 3 equal angles]() Katie says this is a regular polygon ![A parallelogram with 2 pairs of parallel sides marked]() Who is correct?\n",
      "Answer: Neither is correct\n",
      "Example3892, Question :Simplify the following, if possible: \\( \\frac{1-t}{t-1} \\)\n",
      "Answer: Does not simplify\n",
      "Example3362, Question :What is the value of:\n",
      "\\[\n",
      "23.04 \\div 1000\n",
      "\\]\n",
      "Answer: \\( 0.002304 \\)\n",
      "\n",
      "ConstructName: Factorise a quadratic expression in the form x² - bx - c\n",
      "QuestionText: Tom and Katie are arguing about factorising. Tom says \\( x^{2}+5 x+6 \\equiv(x+3)(x+2) \\) \n",
      "Katie says \\( x^{2}-5 x-6 \\equiv(x-3)(x-2) \\) \n",
      "Who is correct?\n",
      "answer: Both Tom and Katie\n"
     ]
    }
   ],
   "source": [
    "print(targetDf['Prompt'][100])"
   ]
  },
  {
   "cell_type": "code",
   "execution_count": 30,
   "metadata": {},
   "outputs": [
    {
     "data": {
      "text/plain": [
       "\"Example2832, Answer: Both Tom and Katie\\n\\nThe given answer is incorrect because Tom's proposed next step, \\\\( \\\\frac{3x}{2} = 0.6 \\\\), is indeed a valid transformation from the original equation \\\\( \\\\frac{3x}{2} + 1 = 1.6 \\\\). However, Katie's proposed next step, \\\\( 3x + 2 = 2.12 \\\\), is incorrect. The correct next step should isolate the term with \\\\( x \\\\) on one side of the equation, and the correct form after subtracting 1 from both sides would be \\\\( \\\\frac{3x}{2} = 0.6 \\\\), not \\\\( 3x + 2 = 2.12 \\\\).\""
      ]
     },
     "execution_count": 30,
     "metadata": {},
     "output_type": "execute_result"
    }
   ],
   "source": [
    "targetDf['Generated Response'][0]"
   ]
  },
  {
   "cell_type": "code",
   "execution_count": 31,
   "metadata": {},
   "outputs": [
    {
     "data": {
      "text/plain": [
       "'Instruction: Why is the given answer wrong under such circumstances? Some of the examples are given below\\nExample from before: \\nExample958, Question :Factorise this expression, if possible:\\r\\n\\\\(\\r\\np^{2}-9\\r\\n\\\\)\\nAnswer: \\\\( (p-3)(p-3) \\\\)\\nExample917, Question :I am facing East. \\\\( \\\\mathrm{E} \\\\longrightarrow \\\\) How many degrees anti-clockwise will I need to turn so I am facing South?\\nAnswer: \\\\( 90^{\\\\circ} \\\\)\\nExample129, Question :These two lines are ... ![Two lines on a graph meeting at a right angle]()\\nAnswer: parallelogram\\nExample234, Question :Which angle is corresponding to angle \\\\( p \\\\) ? ![Image showing two parallel lines cut by a transversal creating two distinct angles around a point. On the left hand side the pink angle is labelled with A, vertically opposite this is the angle labelled p. On the right hand side, angle B is co-interior to p. Then lying on the same straight line as B is the angle labelled C. Vertically opposite angle C is the angle labelled D.]()\\nAnswer: A\\nExample2832, Question :Tom and Katie are discussing how to solve:\\r\\n\\\\(\\\\frac{3 x}{2}+1=1.6\\\\)\\r\\n\\r\\nTom says a correct next line of working could be: \\\\( \\\\frac{3 x}{2}=0.6 \\\\)\\r\\n\\r\\nKatie says a correct next line of working could be: \\\\( 3 x+2=2.12 \\\\)\\r\\n\\r\\nWho is correct?\\nAnswer: Both Tom and Katie\\n\\nConstructName: Express a non-linear equation as a function machine\\nQuestionText: Which function machine matches the equation \\\\( y=x^{2}+4 ? \\\\)\\nanswer: ![A function machine which has 4 parts joined by arrows pointing from left to right. \"y\" is the first part, written on the left, followed by a horizontal arrow pointing to a rectangle that has \"+ 4\" written inside it, followed by a horizontal arrow pointing to a rectangle that has \"square\" written inside it, followed by a horizontal arrow pointing to \"𝑥\"]()'"
      ]
     },
     "execution_count": 31,
     "metadata": {},
     "output_type": "execute_result"
    }
   ],
   "source": [
    "targetDf['Prompt'][0]"
   ]
  }
 ],
 "metadata": {
  "kernelspec": {
   "display_name": "Python 3",
   "language": "python",
   "name": "python3"
  },
  "language_info": {
   "codemirror_mode": {
    "name": "ipython",
    "version": 3
   },
   "file_extension": ".py",
   "mimetype": "text/x-python",
   "name": "python",
   "nbconvert_exporter": "python",
   "pygments_lexer": "ipython3",
   "version": "3.12.6"
  }
 },
 "nbformat": 4,
 "nbformat_minor": 2
}
