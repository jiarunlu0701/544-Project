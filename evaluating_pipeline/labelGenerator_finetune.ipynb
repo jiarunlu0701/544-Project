{
 "cells": [
  {
   "cell_type": "code",
   "execution_count": 53,
   "metadata": {
    "jupyter": {
     "is_executing": true
    }
   },
   "outputs": [],
   "source": [
    "import pandas as pd\n",
    "ground_truth = pd.read_json('groud_truth_embedding.json')\n",
    "targetStr = 'output/finetune_model_responses_qwen.csv'\n",
    "targetDf = pd.read_csv(targetStr)"
   ]
  },
  {
   "cell_type": "code",
   "execution_count": 54,
   "metadata": {},
   "outputs": [
    {
     "name": "stderr",
     "output_type": "stream",
     "text": [
      "Generating embeddings: 100%|██████████| 437/437 [00:44<00:00,  9.84it/s]\n"
     ]
    }
   ],
   "source": [
    "import torch\n",
    "from transformers import DistilBertTokenizer, DistilBertModel\n",
    "import numpy as np\n",
    "from tqdm import tqdm  # For progress bar\n",
    "tokenizer = DistilBertTokenizer.from_pretrained('distilbert-base-uncased')\n",
    "model = DistilBertModel.from_pretrained('distilbert-base-uncased')\n",
    "model.eval()  # Set to evaluation mode\n",
    "\n",
    "def get_embedding(text):\n",
    "    # Tokenize and process the input text\n",
    "    inputs = tokenizer(text, return_tensors=\"pt\", truncation=True, padding=\"max_length\", max_length=512)\n",
    "    \n",
    "    with torch.no_grad():  # Disable gradient computation for efficiency\n",
    "        outputs = model(**inputs)\n",
    "        \n",
    "    # Take the mean of the last hidden state to create a single embedding vector\n",
    "    embeddings = outputs.last_hidden_state.mean(dim=1).squeeze().numpy()\n",
    "    return embeddings\n",
    "\n",
    "embeddings = []\n",
    "for text in tqdm(targetDf['Generated Response'], desc=\"Generating embeddings\"):\n",
    "    embeddings.append(get_embedding(text))\n",
    "targetDf['Embeddings_Generated'] = embeddings"
   ]
  },
  {
   "cell_type": "code",
   "execution_count": 55,
   "metadata": {},
   "outputs": [],
   "source": [
    "misconception_df = pd.read_csv('../embedding_generator/misconception_mapping.csv')\n",
    "from sklearn.metrics.pairwise import cosine_similarity\n",
    "def find_most_similar_id(target_embedding, ground_truth_df):\n",
    "    # Calculate cosine similarity between the target embedding and each embedding in ground_truth\n",
    "    similarities = cosine_similarity([target_embedding], list(ground_truth_df['Embedding']))\n",
    "    \n",
    "    # Find the index of the highest similarity score\n",
    "    most_similar_index = np.argmax(similarities)\n",
    "    \n",
    "    # Retrieve the misconception_id with the highest similarity\n",
    "    most_similar_id = ground_truth_df.iloc[most_similar_index]['MisconceptionId']\n",
    "    return most_similar_id\n",
    "\n",
    "# Apply the function to each row in targetDf\n",
    "targetDf['prediction_result'] = targetDf['Embeddings_Generated'].apply(\n",
    "    lambda emb: find_most_similar_id(emb, ground_truth)\n",
    ")"
   ]
  },
  {
   "cell_type": "code",
   "execution_count": 56,
   "metadata": {},
   "outputs": [],
   "source": [
    "targetDf.rename(columns={'prediction_result': 'MisconceptionId'}, inplace=True)\n",
    "\n",
    "targetDf = targetDf.merge(misconception_df, on='MisconceptionId', how='left')"
   ]
  },
  {
   "cell_type": "code",
   "execution_count": 57,
   "metadata": {},
   "outputs": [
    {
     "name": "stdout",
     "output_type": "stream",
     "text": [
      "0.0\n"
     ]
    }
   ],
   "source": [
    "print(sum(targetDf['Expected Misconception'] == targetDf['MisconceptionName']) / len(targetDf))"
   ]
  },
  {
   "cell_type": "code",
   "execution_count": 58,
   "metadata": {},
   "outputs": [
    {
     "name": "stdout",
     "output_type": "stream",
     "text": [
      "# of a line to the following equation by adding the same number to both sides: 2x + 3 = 7\n",
      "to the same number on both sides of an equation. The given equation is \\(2x + 3 = 7\\). To solve for \\(x\\), we need to isolate \\(x\\) on one side. \n",
      "\n",
      "1. Subtract 3 from both sides of the equation:\n",
      "   \\[\n",
      "   2x + 3 - 3 = 7 - 3\n",
      "   \\]\n",
      "   Simplifying this gives:\n",
      "   \\[\n",
      "   2x = 4\n",
      "   \\]\n",
      "\n",
      "2. Divide both sides by 2:\n",
      "   \\[\n",
      "   \\frac{2x}{2} = \\frac{4}{2}\n",
      "   \\]\n",
      "   Simplifying this gives:\n",
      "   \\[\n",
      "   x = 2\n",
      "   \\]\n",
      "\n",
      "So, the value of \\(x\\) that satisfies the equation is \\(x = 2\\). Let's check it:\n",
      "\n",
      "Substitute \\(x = 2\\) back into the original equation:\n",
      "\\[\n",
      "2(2) + 3 = 4 + 3 = 7\n",
      "\\]\n",
      "\n",
      "The solution checks out. Therefore, the final answer is:\n",
      "\\[\n",
      "\\boxed{2}\n",
      "\\] To solve the equation \\(2x + 3 = 7\\), we need to find the value of \\(x\\) by isolating it on one side of the equation.\n",
      "\n",
      "First, subtract 3 from both sides to eliminate the constant term on the left side:\n",
      "\\[\n",
      "2x + 3 - 3 = 7 - 3\n",
      "\\]\n",
      "This simplifies to:\n",
      "\\[\n",
      "2x = 4\n",
      "\\]\n",
      "\n",
      "Next, divide both sides by 2 to solve for \\(x\\):\n",
      "\\[\n",
      "\\frac{2x}{2} = \\frac{4}{2}\n",
      "\\]\n",
      "This simplifies to:\n",
      "\\[\n",
      "x = 2\n",
      "\\]\n",
      "\n",
      "To verify, substitute \\(x = 2\\) back into the original equation:\n",
      "\\[\n",
      "2(2) + 3 = 4 + 3 = 7\n",
      "\\]\n",
      "\n",
      "Since both sides are equal, the solution is correct. Thus, the final answer is:\n",
      "\\[\n",
      "\\boxed{2}\n",
      "\\] To solve the equation \\(2x + 3 = 7\\):\n",
      "\n",
      "1. Subtract 3 from both sides to isolate the term with \\(x\\):\n",
      "   \\[\n",
      "   2x + 3 - 3 = 7 - 3\n",
      "   \\]\n",
      "   Simplifying this gives:\n",
      "   \\[\n",
      "   2x = 4\n",
      "   \\]\n",
      "\n",
      "2. Divide both sides by 2 to solve for \\(x\\):\n",
      "   \\[\n",
      "   \\frac{2x}{2} = \\frac{4}{2}\n",
      "   \\]\n",
      "   Simplifying this gives:\n",
      "   \\[\n",
      "   x = 2\n",
      "   \\]\n",
      "\n",
      "We can verify the solution by substituting \\(x = 2\\) back into the original equation:\n",
      "\\[\n",
      "2(2) + 3 = 4 + 3 = 7\n",
      "\\]\n",
      "\n",
      "Since both sides are equal, the solution is correct. Therefore, the final answer is:\n",
      "\\[\n",
      "\\boxed{2}\n",
      "\\] To solve the equation \\(2x + 3 = 7\\):\n",
      "\n",
      "1. Subtract 3 from both sides:\n",
      "   \\[\n",
      "   2x + 3 - 3 = 7 - 3\n",
      "   \\]\n",
      "   This simplifies to:\n",
      "   \\[\n",
      "   2x = 4\n",
      "   \\]\n",
      "\n",
      "2. Divide both sides by 2:\n",
      "   \\[\n",
      "   \\frac{2x}{2} = \\frac{4}{2}\n",
      "   \\]\n",
      "   This simplifies to:\n",
      "   \\[\n",
      "   x = 2\n",
      "   \\]\n",
      "\n",
      "To verify the solution, substitute \\(x = 2\\) back into the original equation:\n",
      "\\[\n",
      "2(2) + 3 = 4 + 3 = 7\n",
      "\\]\n",
      "\n",
      "Since both sides are equal, the solution is correct. Therefore, the final answer is:\n",
      "\\\n"
     ]
    }
   ],
   "source": [
    "print(targetDf['Generated Response'][100])"
   ]
  },
  {
   "cell_type": "code",
   "execution_count": 59,
   "metadata": {},
   "outputs": [
    {
     "name": "stdout",
     "output_type": "stream",
     "text": [
      "Instruction: Why is the given answer wrong under such circumstances? Provide only the final answer.\n",
      "answer: Both Tom and Katie\n",
      "ConstructName: Factorise a quadratic expression in the form x² - bx - c\n",
      "QuestionText: Tom and Katie are arguing about factorising. Tom says \\( x^{2}+5 x+6 \\equiv(x+3)(x+2) \\) \n",
      "Katie says \\( x^{2}-5 x-6 \\equiv(x-3)(x-2) \\) \n",
      "Who is correct?\n"
     ]
    }
   ],
   "source": [
    "print(targetDf['Prompt'][100])"
   ]
  },
  {
   "cell_type": "code",
   "execution_count": 61,
   "metadata": {},
   "outputs": [
    {
     "data": {
      "text/plain": [
       "'# of the two numbers and then subtracting one number from the other.\\nfrom the two numbers in order.\\nis the same as the difference between the two numbers in order.\\nnumbers in order.\\nthe smaller of the two numbers in order.\\nthe sum of the two numbers in order.\\nthe product of the two numbers in order.\\nof the two numbers in order.\\n100 times the difference of the two numbers in order.\\nthe difference of the two numbers in order.\\na number, the two numbers are not necessarily in the same order. the sum of the two numbers in order.\\nthe square of the smaller of the two numbers in order.\\nthe square of the larger of the two numbers in order.\\nto the sum of the two numbers in order.\\nthe sum of the two numbers in order.\\nthe sum of the two numbers in order.\\nthe sum of the two numbers in order.\\nthe square of the smaller of the two numbers in order.\\nthe sum of the two numbers in order.\\nthe square of the larger of the two numbers in order.\\nthe sum of the two numbers in order.\\nthe square of the smaller of the two numbers in order.\\nthe square of the larger of the two numbers in order.\\nthe square of the larger of the two numbers in order.\\nthe sum of the two numbers in order.\\nthe sum of the two numbers in order.\\nthe sum of the two numbers in order.\\nthe square of the larger of the two numbers in order.\\nthe square of the larger of the two numbers in order.\\nthe square of the larger of the two numbers in order.\\nthe square of the larger of the two numbers in order.\\nthe square of the larger of the two numbers in order.\\nthe square of the larger of the two numbers in order.\\nthe square of the larger of the two numbers in order.\\nthe square of the larger of the two numbers in order.\\nthe square of the larger of the two numbers in order.\\nthe square of the larger of the two numbers in order.\\nthe square of the larger of the two numbers in order.\\nthe square of the larger of the two numbers in order.\\nthe square of the larger of the two numbers in order.\\nthe square of the larger of the two numbers in order.\\nthe square of the larger of the two numbers in order.\\nthe square of the larger of the two numbers in order.\\nthe square of the larger of the two numbers in order.\\nthe square of the larger of the two numbers in order.\\nthe square of the larger of the two numbers in order.\\nthe square of the larger of the two numbers in order.\\nthe square of the larger of the two numbers in order.\\nthe square of the larger of the two numbers in order.\\nthe square of the larger of the two numbers in order.\\nthe square of the larger of the two numbers in order.\\nthe square of the larger of the two numbers in order.\\nthe square of the larger of the two numbers in order.\\nthe square of the larger of the two numbers in order.\\nthe square of the larger of the two numbers in order.\\nthe square of the larger of the two numbers in order.\\nthe square of the larger of the two numbers in order.\\nthe square of the larger of the two numbers in order.\\nthe square of the larger of the two numbers in order.\\nthe square of the larger of the two numbers in order.\\nthe square of the larger of the two numbers in order.\\nthe square of the larger of the two numbers in order.\\nthe square of the larger of the two numbers in order.\\nthe square of the larger of the two numbers in order.\\nthe square of the larger of the two numbers in order.\\nthe square of the larger of the two numbers in order.\\nthe square of the larger of the two numbers in order.\\nthe square of the larger of the two numbers in order.\\nthe square of the larger of the two numbers in order.\\nthe square of the larger of the two numbers'"
      ]
     },
     "execution_count": 61,
     "metadata": {},
     "output_type": "execute_result"
    }
   ],
   "source": [
    "targetDf['Generated Response'][0]"
   ]
  },
  {
   "cell_type": "code",
   "execution_count": 62,
   "metadata": {},
   "outputs": [
    {
     "data": {
      "text/plain": [
       "'Instruction: Why is the given answer wrong under such circumstances? Provide only the final answer.\\nanswer: ![A function machine which has 4 parts joined by arrows pointing from left to right. \"y\" is the first part, written on the left, followed by a horizontal arrow pointing to a rectangle that has \"+ 4\" written inside it, followed by a horizontal arrow pointing to a rectangle that has \"square\" written inside it, followed by a horizontal arrow pointing to \"𝑥\"]()\\nConstructName: Express a non-linear equation as a function machine\\nQuestionText: Which function machine matches the equation \\\\( y=x^{2}+4 ? \\\\)'"
      ]
     },
     "execution_count": 62,
     "metadata": {},
     "output_type": "execute_result"
    }
   ],
   "source": [
    "targetDf['Prompt'][0]"
   ]
  }
 ],
 "metadata": {
  "kernelspec": {
   "display_name": "Python 3",
   "language": "python",
   "name": "python3"
  },
  "language_info": {
   "codemirror_mode": {
    "name": "ipython",
    "version": 3
   },
   "file_extension": ".py",
   "mimetype": "text/x-python",
   "name": "python",
   "nbconvert_exporter": "python",
   "pygments_lexer": "ipython3",
   "version": "3.12.6"
  }
 },
 "nbformat": 4,
 "nbformat_minor": 2
}
