{
 "cells": [
  {
   "cell_type": "code",
   "execution_count": 1,
   "metadata": {
    "jupyter": {
     "is_executing": true
    }
   },
   "outputs": [],
   "source": [
    "import pandas as pd\n",
    "ground_truth = pd.read_json('groud_truth_embedding.json')\n",
    "targetStr = 'output/finetune_model_responses_qwen.csv'\n",
    "targetDf = pd.read_csv(targetStr)"
   ]
  },
  {
   "cell_type": "code",
   "execution_count": 2,
   "metadata": {},
   "outputs": [
    {
     "name": "stderr",
     "output_type": "stream",
     "text": [
      "c:\\Users\\jiaru\\AppData\\Local\\Programs\\Python\\Python312\\Lib\\site-packages\\tqdm\\auto.py:21: TqdmWarning: IProgress not found. Please update jupyter and ipywidgets. See https://ipywidgets.readthedocs.io/en/stable/user_install.html\n",
      "  from .autonotebook import tqdm as notebook_tqdm\n",
      "Generating embeddings: 100%|██████████| 437/437 [00:45<00:00,  9.69it/s]\n"
     ]
    }
   ],
   "source": [
    "import torch\n",
    "from transformers import DistilBertTokenizer, DistilBertModel\n",
    "import numpy as np\n",
    "from tqdm import tqdm  # For progress bar\n",
    "tokenizer = DistilBertTokenizer.from_pretrained('distilbert-base-uncased')\n",
    "model = DistilBertModel.from_pretrained('distilbert-base-uncased')\n",
    "model.eval()  # Set to evaluation mode\n",
    "\n",
    "def get_embedding(text):\n",
    "    # Tokenize and process the input text\n",
    "    inputs = tokenizer(text, return_tensors=\"pt\", truncation=True, padding=\"max_length\", max_length=512)\n",
    "    \n",
    "    with torch.no_grad():  # Disable gradient computation for efficiency\n",
    "        outputs = model(**inputs)\n",
    "        \n",
    "    # Take the mean of the last hidden state to create a single embedding vector\n",
    "    embeddings = outputs.last_hidden_state.mean(dim=1).squeeze().numpy()\n",
    "    return embeddings\n",
    "\n",
    "embeddings = []\n",
    "for text in tqdm(targetDf['Generated Response'], desc=\"Generating embeddings\"):\n",
    "    embeddings.append(get_embedding(text))\n",
    "targetDf['Embeddings_Generated'] = embeddings"
   ]
  },
  {
   "cell_type": "code",
   "execution_count": 3,
   "metadata": {},
   "outputs": [],
   "source": [
    "misconception_df = pd.read_csv('../embedding_generator/misconception_mapping.csv')\n",
    "from sklearn.metrics.pairwise import cosine_similarity\n",
    "def find_most_similar_id(target_embedding, ground_truth_df):\n",
    "    # Calculate cosine similarity between the target embedding and each embedding in ground_truth\n",
    "    similarities = cosine_similarity([target_embedding], list(ground_truth_df['Embedding']))\n",
    "    \n",
    "    # Find the index of the highest similarity score\n",
    "    most_similar_index = np.argmax(similarities)\n",
    "    \n",
    "    # Retrieve the misconception_id with the highest similarity\n",
    "    most_similar_id = ground_truth_df.iloc[most_similar_index]['MisconceptionId']\n",
    "    return most_similar_id\n",
    "\n",
    "# Apply the function to each row in targetDf\n",
    "targetDf['prediction_result'] = targetDf['Embeddings_Generated'].apply(\n",
    "    lambda emb: find_most_similar_id(emb, ground_truth)\n",
    ")"
   ]
  },
  {
   "cell_type": "code",
   "execution_count": 4,
   "metadata": {},
   "outputs": [],
   "source": [
    "targetDf.rename(columns={'prediction_result': 'MisconceptionId'}, inplace=True)\n",
    "\n",
    "targetDf = targetDf.merge(misconception_df, on='MisconceptionId', how='left')"
   ]
  },
  {
   "cell_type": "code",
   "execution_count": 5,
   "metadata": {},
   "outputs": [
    {
     "name": "stdout",
     "output_type": "stream",
     "text": [
      "0.0\n"
     ]
    }
   ],
   "source": [
    "print(sum(targetDf['Expected Misconception'] == targetDf['MisconceptionName']) / len(targetDf))"
   ]
  },
  {
   "cell_type": "code",
   "execution_count": 6,
   "metadata": {},
   "outputs": [
    {
     "name": "stdout",
     "output_type": "stream",
     "text": [
      "Humanize the expression of the following mathematical statement: \n",
      "instead of \"the square root of 16 is 4\" it should be expressed as \"the square root of sixteen is four\"\n",
      "instead of \"the square root of 4 is 2\" it should be expressed as \"the square root of four is two\"\n",
      "instead of \"the square root of 100 is 10\" it should be expressed as \"the square root of one hundred is ten\"\n",
      "instead of \"the square root of 25 is 5\" it should be expressed as \"the square root of twenty five is five\"\n",
      "Instead of \"the square root of 36 is 6\" it should be expressed as \"the square root of thirty six is six\"\n",
      "\n",
      "the square root of 9 is 3\n",
      "the square root of 25 is 5\n",
      "the square root of 36 is 6\n",
      "the square root of 49 is 7\n",
      "the square root of 64 is 8\n",
      "the square root of 81 is 9 To express the square roots with a more conversational tone, you could say:\n",
      "\n",
      "The square root of nine is three.\n",
      "The square root of twenty-five is five.\n",
      "The square root of thirty-six is six.\n",
      "The square root of forty-nine is seven.\n",
      "The square root of sixty-four is eight.\n",
      "The square root of eighty-one is nine.\n",
      "\n",
      "Each of these expressions maintains the original meaning while using simpler language to make the statement more approachable. The numbers are still represented correctly. For example, \"nine\" for the square root of 81, not \"ninety\". Similarly, \"twenty-five\" for the square root of 25, not \"two hundred fifty\". This ensures that each square root is accurately described. \n",
      "\n",
      "So, the complete version would be:\n",
      "\n",
      "The square root of nine is three.\n",
      "The square root of twenty-five is five.\n",
      "The square root of thirty-six is six.\n",
      "The square root of forty-nine is seven.\n",
      "The square root of sixty-four is eight.\n",
      "The square root of eighty-one is nine. To ensure clarity and simplicity, we can rephrase them as follows:\n",
      "\n",
      "\"The square root of nine is three.\"\n",
      "\"The square root of twenty-five is five.\"\n",
      "\"The square root of thirty-six is six.\"\n",
      "\"The square root of forty-nine is seven.\"\n",
      "\"The square root of sixty-four is eight.\"\n",
      "\"The square root of eighty-one is nine.\" \n",
      "\n",
      "This format keeps the expressions clear and easy to understand while maintaining the accuracy of the statements. Each number directly corresponds to its respective square root. To wrap it up, the final version is:\n",
      "\n",
      "The square root of nine is three.\n",
      "The square root of twenty-five is five.\n",
      "The square root of thirty-six is six.\n",
      "The square root of forty-nine is seven.\n",
      "The square root of sixty-four is eight.\n",
      "The square root of eighty-one is nine.\n"
     ]
    }
   ],
   "source": [
    "print(targetDf['Generated Response'][100])"
   ]
  },
  {
   "cell_type": "code",
   "execution_count": 7,
   "metadata": {},
   "outputs": [
    {
     "name": "stdout",
     "output_type": "stream",
     "text": [
      "Instruction: Why is the given answer wrong under such circumstances? Provide only the final answer.\n",
      "answer: Both Tom and Katie\n",
      "ConstructName: Factorise a quadratic expression in the form x² - bx - c\n",
      "QuestionText: Tom and Katie are arguing about factorising. Tom says \\( x^{2}+5 x+6 \\equiv(x+3)(x+2) \\) \n",
      "Katie says \\( x^{2}-5 x-6 \\equiv(x-3)(x-2) \\) \n",
      "Who is correct?\n",
      "Response:\n"
     ]
    }
   ],
   "source": [
    "print(targetDf['Prompt'][100])"
   ]
  },
  {
   "cell_type": "code",
   "execution_count": 8,
   "metadata": {},
   "outputs": [
    {
     "data": {
      "text/plain": [
       "\"Human: the of the in to be for by or by is to of the to of the in of and the of the of of by of the the by of the of to of the to the the by to of the of of the of to the by of the of the to of the of the the by the the of the of of of the the of of the of the of to the the of the of of the to the by of the of the the the to the of the of of to the the of of the of the of of the of the of the the the of the of of the of the of the the of of of of of of of the of the of the of the of the of the of the of of of of of of of the of the of the of the of of of of of of of of the of the of the of the of the of the of the of of the of the of of of of of of the of the of the of of of of of of of of the of the of the of the of the of the of the of of of of of of of of the of the of the of the of the of the of the of the of the of the of the of the of the of the of of of of of of of of of of of the of the of the of the of the of of of of of the of the of the of the of the of the of of of of of of of of of of of the of the of the of the of of of of of of of of of of of of the of the of the of the of the of of of of of of of of of of of of of of of of of of of of of of of of of the problem, the total number of sides of the remaining two polygons is \\\\( 10 - 3 = 7 \\\\).\\n\\nSo, the sum of the interior angles of the remaining polygon is \\\\(7 \\\\times 180^\\\\circ = 1260^\\\\circ\\\\).\\n\\nNow, subtracting the sum of the interior angles of the three removed triangles (which is \\\\(3 \\\\times 180^\\\\circ = 540^\\\\circ\\\\)) from this value, we get the sum of the interior angles of the remaining polygon:\\n\\n\\\\[ 1260^\\\\circ - 540^\\\\circ = 720^\\\\circ\\\\]\\n\\nTherefore, the sum of the interior angles of the remaining polygon is \\\\(\\\\boxed{720^\\\\circ}\\\\). To determine the correct answer, let's analyze the function machine described.\\n\\nThe function machine takes an input \\\\( x \\\\) and performs two operations:\\n1. It adds 4 to the input.\\n2. It squares the result.\\n\\nThus, if the input is \\\\( x \\\\), the output \\\\( y \\\\) is calculated as follows:\\n\\\\[ y = (x + 4)^2 \\\\]\\n\\nWe need to find the sum of the interior angles of the polygon formed by these outputs when \\\\( x \\\\) ranges from 1 to 10.\\n\\nFirst, we compute the values of \\\\( y \\\\) for each \\\\( x \\\\):\\n\\\\[\\n\\\\begin{align*}\\nx = 1 & \\\\implies y = (1 + 4)^2 = 25 \\\\\\\\\\nx = 2 & \\\\implies y = (2 + 4)^2 = 36 \\\\\\\\\\nx = 3 & \\\\implies y = (3 + 4)^2 = 49 \\\\\\\\\\nx = 4 & \\\\implies y = (4 + 4)^2 = 64 \\\\\\\\\\nx = 5 & \\\\implies y = (5 + 4)^2 = 81 \\\\\\\\\\nx = 6 & \\\\implies y = (6 + 4)^2 = 100 \\\\\\\\\\nx = 7 & \\\\implies y = (\""
      ]
     },
     "execution_count": 8,
     "metadata": {},
     "output_type": "execute_result"
    }
   ],
   "source": [
    "targetDf['Generated Response'][0]"
   ]
  },
  {
   "cell_type": "code",
   "execution_count": 9,
   "metadata": {},
   "outputs": [
    {
     "data": {
      "text/plain": [
       "'Instruction: Why is the given answer wrong under such circumstances? Provide only the final answer.\\nanswer: ![A function machine which has 4 parts joined by arrows pointing from left to right. \"y\" is the first part, written on the left, followed by a horizontal arrow pointing to a rectangle that has \"+ 4\" written inside it, followed by a horizontal arrow pointing to a rectangle that has \"square\" written inside it, followed by a horizontal arrow pointing to \"𝑥\"]()\\nConstructName: Express a non-linear equation as a function machine\\nQuestionText: Which function machine matches the equation \\\\( y=x^{2}+4 ? \\\\)\\nResponse:'"
      ]
     },
     "execution_count": 9,
     "metadata": {},
     "output_type": "execute_result"
    }
   ],
   "source": [
    "targetDf['Prompt'][0]"
   ]
  }
 ],
 "metadata": {
  "kernelspec": {
   "display_name": "Python 3",
   "language": "python",
   "name": "python3"
  },
  "language_info": {
   "codemirror_mode": {
    "name": "ipython",
    "version": 3
   },
   "file_extension": ".py",
   "mimetype": "text/x-python",
   "name": "python",
   "nbconvert_exporter": "python",
   "pygments_lexer": "ipython3",
   "version": "3.12.6"
  }
 },
 "nbformat": 4,
 "nbformat_minor": 2
}
