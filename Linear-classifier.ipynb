{
  "cells": [
    {
      "cell_type": "code",
      "source": [
        "import pandas as pd\n",
        "import torch\n",
        "from transformers import AutoTokenizer, AutoModel\n",
        "from google.colab import drive\n",
        "from sklearn.model_selection import train_test_split\n",
        "\n",
        "drive.mount('/content/drive')\n",
        "file_path1 = '/content/drive/MyDrive/mathbert_embeddings.pt'\n",
        "embeddings = torch.load(file_path1, map_location=torch.device('cpu'), weights_only = True)\n",
        "print(\"Loaded embeddings shape:\", embeddings.shape)\n"
      ],
      "metadata": {
        "colab": {
          "base_uri": "https://localhost:8080/"
        },
        "id": "ftCHC-Wu3T9F",
        "outputId": "76b6847c-e8f7-4e08-93e2-7eb96d2d2564"
      },
      "execution_count": 25,
      "outputs": [
        {
          "output_type": "stream",
          "name": "stdout",
          "text": [
            "Drive already mounted at /content/drive; to attempt to forcibly remount, call drive.mount(\"/content/drive\", force_remount=True).\n",
            "Loaded embeddings shape: torch.Size([4370, 768])\n"
          ]
        }
      ]
    },
    {
      "cell_type": "code",
      "source": [
        "import pandas as pd\n",
        "file_path2 = '/content/drive/MyDrive/finalDataSet.csv'\n",
        "df = pd.read_csv(file_path2)\n",
        "Y = df['MisconceptionId'].astype(int)\n",
        "print(Y[:5])\n",
        "Y_tensor = torch.tensor(Y.values) if isinstance(Y, pd.Series) else torch.tensor(Y)\n",
        "\n",
        "train_embeddings, val_test_embeddings, train_Y, val_test_Y = train_test_split(\n",
        "    embeddings, Y_tensor, test_size=0.2, random_state=42\n",
        ")\n",
        "\n",
        "# Then, split the 20% into 10% validation and 10% test\n",
        "val_embeddings, test_embeddings, val_Y, test_Y = train_test_split(\n",
        "    val_test_embeddings, val_test_Y, test_size=0.5, random_state=42\n",
        ")\n"
      ],
      "metadata": {
        "colab": {
          "base_uri": "https://localhost:8080/"
        },
        "id": "oy4JNs6u4aDe",
        "outputId": "343b611c-07da-4e92-fd77-acab81427c99"
      },
      "execution_count": 26,
      "outputs": [
        {
          "output_type": "stream",
          "name": "stdout",
          "text": [
            "0    2142\n",
            "1    1287\n",
            "2    1180\n",
            "3     686\n",
            "4     329\n",
            "Name: MisconceptionId, dtype: int64\n"
          ]
        }
      ]
    },
    {
      "cell_type": "code",
      "source": [
        "import torch.nn as nn\n",
        "\n",
        "# Define a simple linear classifier model\n",
        "class LinearClassifier(nn.Module):\n",
        "    def __init__(self, input_dim, output_dim):\n",
        "        super(LinearClassifier, self).__init__()\n",
        "        self.linear = nn.Linear(input_dim, output_dim)\n",
        "\n",
        "    def forward(self, x):\n",
        "        return self.linear(x)\n",
        "\n",
        "# Get the input size from embeddings and the number of classes from Y\n",
        "input_dim = embeddings.shape[1]  # Embedding dimension\n",
        "max_label_value = Y_tensor.max().item()\n",
        "\n",
        "# Initialize the model\n",
        "model = LinearClassifier(input_dim=input_dim, output_dim=max_label_value + 1)\n"
      ],
      "metadata": {
        "id": "aFSIvWV-4OTw"
      },
      "execution_count": 36,
      "outputs": []
    },
    {
      "cell_type": "code",
      "source": [
        "import torch.optim as optim\n",
        "from sklearn.metrics import accuracy_score\n",
        "\n",
        "learning_rate = 1e-4\n",
        "batch_size = 32\n",
        "num_epochs = 250\n",
        "\n",
        "# Loss function and optimizer\n",
        "criterion = nn.CrossEntropyLoss()\n",
        "optimizer = optim.Adam(model.parameters(), lr=learning_rate)\n",
        "\n",
        "for epoch in range(num_epochs):\n",
        "    epoch_loss = 0.0\n",
        "    model.train()  # Set the model to training mode\n",
        "\n",
        "    # Shuffle training data at the beginning of each epoch\n",
        "    perm = torch.randperm(train_embeddings.shape[0])\n",
        "    train_embeddings_shuffled = train_embeddings[perm]\n",
        "    train_Y_shuffled = train_Y[perm]\n",
        "\n",
        "    # Process inputs in batches for training\n",
        "    for i in range(0, train_embeddings.shape[0], batch_size):\n",
        "        batch_embeddings = train_embeddings_shuffled[i:i + batch_size]\n",
        "        batch_labels = train_Y_shuffled[i:i + batch_size]\n",
        "\n",
        "        # Zero the parameter gradients\n",
        "        optimizer.zero_grad()\n",
        "\n",
        "        # Forward pass\n",
        "        outputs = model(batch_embeddings)\n",
        "\n",
        "        # Compute loss\n",
        "        loss = criterion(outputs, batch_labels)\n",
        "\n",
        "        # Backward pass and optimization\n",
        "        loss.backward()\n",
        "        optimizer.step()\n",
        "\n",
        "        # Accumulate the loss\n",
        "        epoch_loss += loss.item()\n",
        "\n",
        "    # Validation every 10 epochs\n",
        "    if (epoch + 1) % 25 == 0:\n",
        "        model.eval()  # Set the model to evaluation mode\n",
        "        with torch.no_grad():\n",
        "            val_outputs = model(val_embeddings)\n",
        "            _, val_preds = torch.max(val_outputs, dim=1)\n",
        "            val_accuracy = accuracy_score(val_Y.cpu(), val_preds.cpu())  # Calculate accuracy\n",
        "        print(f\"Epoch [{epoch+1}/{num_epochs}], Loss: {epoch_loss:.4f}, Validation Accuracy: {val_accuracy:.4f}\")\n",
        "\n",
        "# Evaluate the model on the test set\n",
        "model.eval()  # Set the model to evaluation mode\n",
        "with torch.no_grad():\n",
        "    test_outputs = model(test_embeddings)\n",
        "    _, test_preds = torch.max(test_outputs, dim=1)\n",
        "    test_accuracy = accuracy_score(test_Y.cpu(), test_preds.cpu())  # Calculate accuracy\n",
        "print(f\"Test Accuracy: {test_accuracy:.4f}\")\n"
      ],
      "metadata": {
        "colab": {
          "base_uri": "https://localhost:8080/"
        },
        "id": "h1zlkr0F4PwD",
        "outputId": "a2b79886-8de3-4db4-a824-14ad6f275aa3"
      },
      "execution_count": 37,
      "outputs": [
        {
          "output_type": "stream",
          "name": "stdout",
          "text": [
            "Epoch [25/250], Loss: 250.0403, Validation Accuracy: 0.2151\n",
            "Epoch [50/250], Loss: 118.6969, Validation Accuracy: 0.2334\n",
            "Epoch [75/250], Loss: 78.3719, Validation Accuracy: 0.2311\n",
            "Epoch [100/250], Loss: 58.9213, Validation Accuracy: 0.2494\n",
            "Epoch [125/250], Loss: 47.4682, Validation Accuracy: 0.2563\n",
            "Epoch [150/250], Loss: 39.2452, Validation Accuracy: 0.2494\n",
            "Epoch [175/250], Loss: 33.5048, Validation Accuracy: 0.2563\n",
            "Epoch [200/250], Loss: 29.2119, Validation Accuracy: 0.2586\n",
            "Epoch [225/250], Loss: 25.9719, Validation Accuracy: 0.2586\n",
            "Epoch [250/250], Loss: 23.2783, Validation Accuracy: 0.2586\n",
            "Test Accuracy: 0.2609\n"
          ]
        }
      ]
    }
  ],
  "metadata": {
    "colab": {
      "provenance": []
    },
    "kernelspec": {
      "display_name": "Python 3",
      "name": "python3"
    },
    "language_info": {
      "name": "python"
    }
  },
  "nbformat": 4,
  "nbformat_minor": 0
}